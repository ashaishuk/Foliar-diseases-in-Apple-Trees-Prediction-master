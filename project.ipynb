{
 "cells": [
  {
   "cell_type": "code",
   "execution_count": 1,
   "id": "dd3125e2",
   "metadata": {},
   "outputs": [],
   "source": [
    "from flask import Flask,render_template,request\n",
    "import numpy as np\n",
    "import os\n",
    "from tensorflow.keras.models import load_model\n",
    "from tensorflow.keras.preprocessing import image\n",
    "from werkzeug.utils import secure_filename"
   ]
  },
  {
   "cell_type": "code",
   "execution_count": 2,
   "id": "9dfa8382",
   "metadata": {},
   "outputs": [],
   "source": [
    "# define the flask app\n",
    "app=Flask(__name__)\n",
    "\n",
    "# load the model\n",
    "model=load_model(r'apple-224.h5')"
   ]
  },
  {
   "cell_type": "code",
   "execution_count": 3,
   "id": "9e0ebc95",
   "metadata": {},
   "outputs": [],
   "source": [
    "def model_predict(img_path,model):\n",
    "    test_image=image.load_img(img_path,target_size=(224,224))\n",
    "    test_image=image.img_to_array(test_image)\n",
    "    test_image=test_image/255\n",
    "    test_image=np.expand_dims(test_image,axis=0)\n",
    "    result=model.predict(test_image)\n",
    "    return result"
   ]
  },
  {
   "cell_type": "code",
   "execution_count": 4,
   "id": "3292d8ed",
   "metadata": {},
   "outputs": [],
   "source": [
    "@app.route('/',methods=['GET'])\n",
    "def index():\n",
    "    return render_template('index.html')"
   ]
  },
  {
   "cell_type": "code",
   "execution_count": 5,
   "id": "3998ac6f",
   "metadata": {},
   "outputs": [],
   "source": [
    "@app.route('/predict',methods=['GET','POST'])\n",
    "def upload():\n",
    "    if request.method=='POST':\n",
    "        # get the file from post request\n",
    "        f=request.files['file']\n",
    "\n",
    "        # save the file to uploads folder\n",
    "        basepath=os.path.dirname(os.path.realpath('__file__'))\n",
    "        file_path=os.path.join(basepath,'uploads',secure_filename(f.filename))\n",
    "        f.save(file_path)\n",
    "\n",
    "        # Make prediction\n",
    "        result =model_predict(file_path,model)\n",
    "\n",
    "        categories=['Healthy','Multiple Disease','Rust','Scab']\n",
    "\n",
    "        # process your result for human\n",
    "        pred_class = result.argmax()\n",
    "        output=categories[pred_class]\n",
    "        return output\n",
    "    return None"
   ]
  },
  {
   "cell_type": "code",
   "execution_count": null,
   "id": "53ff5e6e",
   "metadata": {},
   "outputs": [
    {
     "name": "stdout",
     "output_type": "stream",
     "text": [
      " * Serving Flask app '__main__' (lazy loading)\n",
      " * Environment: production\n",
      "\u001b[31m   WARNING: This is a development server. Do not use it in a production deployment.\u001b[0m\n",
      "\u001b[2m   Use a production WSGI server instead.\u001b[0m\n",
      " * Debug mode: off\n"
     ]
    },
    {
     "name": "stderr",
     "output_type": "stream",
     "text": [
      " * Running on http://127.0.0.1:5926 (Press CTRL+C to quit)\n",
      "127.0.0.1 - - [06/Apr/2022 16:14:08] \"GET / HTTP/1.1\" 200 -\n",
      "127.0.0.1 - - [06/Apr/2022 16:14:09] \"GET /static/css/main.css HTTP/1.1\" 304 -\n",
      "127.0.0.1 - - [06/Apr/2022 16:14:09] \"GET /static/js/main.js HTTP/1.1\" 304 -\n",
      "127.0.0.1 - - [06/Apr/2022 16:14:17] \"POST /predict HTTP/1.1\" 200 -\n"
     ]
    }
   ],
   "source": [
    "if __name__=='__main__':\n",
    "    app.run(debug=False,port=5926)"
   ]
  },
  {
   "cell_type": "code",
   "execution_count": null,
   "id": "2fb79039",
   "metadata": {},
   "outputs": [],
   "source": []
  }
 ],
 "metadata": {
  "kernelspec": {
   "display_name": "Python 3 (ipykernel)",
   "language": "python",
   "name": "python3"
  },
  "language_info": {
   "codemirror_mode": {
    "name": "ipython",
    "version": 3
   },
   "file_extension": ".py",
   "mimetype": "text/x-python",
   "name": "python",
   "nbconvert_exporter": "python",
   "pygments_lexer": "ipython3",
   "version": "3.10.4"
  }
 },
 "nbformat": 4,
 "nbformat_minor": 5
}
